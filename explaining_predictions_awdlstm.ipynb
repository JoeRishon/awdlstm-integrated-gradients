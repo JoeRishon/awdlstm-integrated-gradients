{
 "cells": [
  {
   "cell_type": "markdown",
   "metadata": {},
   "source": [
    "# Explaining AWD-LSTM predictions using Integrated Gradients\n",
    "\n",
    "Michal Mucha\n",
    "\n",
    "**Work based on:**\n",
    "> Integrated Gradients paper https://arxiv.org/abs/1703.01365.pdf  \n",
    "Captum implementation & tutorial https://captum.ai/tutorials/IMDB_TorchText_Interpret\n",
    "\n",
    "\n",
    "> AWD-LSTM paper https://arxiv.org/abs/1708.02182  \n",
    "fast.ai implementation & training https://github.com/fastai/course-v3/blob/master/nbs/dl1/lesson3-imdb.ipynb\n",
    "\n",
    "Thank you to Josh Casswell and Sascha Hoffman for being part of our London fast.ai study group sessions and providing valuable feedback.\n",
    "\n",
    "**Objective**  \n",
    "\n",
    "* Understand and sense-check model decision making through inspecting attributions\n",
    "* Visualize token attributions \n",
    "* Provide easy to use code so that anyone can apply this to their fastai-trained models\n",
    "\n",
    "**Integrated gradients**\n",
    "\n",
    "In a grand TL;DR  \n",
    "how much influence on model decision does this input have, \n",
    "as compared to baseline input (think blank image vs. actual image)\n",
    "\n",
    "the actual image is gradually faded in from 0% to 100%  \n",
    "gradients are calculated for each step on the way  \n",
    "they are integrated over the [0% to 100%] range and that gives us attributions\n",
    "\n",
    "as images are naturally easy represent as a continuous domain (float pixel/channel intensity values), they can be scaled from 0 to 100%  \n",
    "\n",
    "This will not work for discrete token identifier integers. For that reason, we're comparing token embeddings.  \n",
    "Some ideas for a textual baseline: a zero-embedding vector, or a neutral token\n",
    "\n",
    "**Illustration:**  \n",
    "Input = Homer  \n",
    "Baseline = Hedge fence  \n",
    "Gradients are calculated at every step from 100% visible to 0% visible  \n",
    "Attribution value = numerical integration over gradients times alpha as it's going from 0% to 100%  \n",
    "![](homer-fading.gif)\n",
    "\n",
    "in other words:  \n",
    "![](IG_eq1.png)[source](https://captum.ai/docs/algorithms###Integrated-Gradients)  \n",
    "where  \n",
    "`x'` - baseline - homer hidden in hedge fence  \n",
    "`x` - input - homer revealed\n",
    "\n",
    "integration over `ɑ` - integration over gradients of homer at all steps from visible to invisible\n",
    "\n",
    "`i` in $x_i$ denotes individual pixels of the input.\n",
    "\n",
    "In textual examples, it refers to tokens. (Technically, to token embedding vectors)\n",
    "\n",
    "**AWD-LSTM**\n",
    "\n",
    "The model architecture is not trivial and leaves the model many ways to learn relationships between input and output. Especially the RNN architecture provides way to learn very sophisticated interactions between elements in a sequence.\n",
    "\n",
    "Applying IG to this is very enjoyable as it enables you to have sort of a conversation with the model and see the world through it's eyes."
   ]
  },
  {
   "cell_type": "markdown",
   "metadata": {},
   "source": [
    "```python \n",
    ">>> awd.model\n",
    "SequentialRNN(\n",
    "  (0): MultiBatchEncoder(\n",
    "    (module): AWD_LSTM(\n",
    "      (encoder): Embedding(60000, 400, padding_idx=1)\n",
    "      (encoder_dp): EmbeddingDropout(\n",
    "        (emb): Embedding(60000, 400, padding_idx=1)\n",
    "      )\n",
    "      (rnns): ModuleList(\n",
    "        (0): WeightDropout(\n",
    "          (module): LSTM(400, 1152, batch_first=True)\n",
    "        )\n",
    "        (1): WeightDropout(\n",
    "          (module): LSTM(1152, 1152, batch_first=True)\n",
    "        )\n",
    "        (2): WeightDropout(\n",
    "          (module): LSTM(1152, 400, batch_first=True)\n",
    "        )\n",
    "      )\n",
    "      (input_dp): RNNDropout()\n",
    "      (hidden_dps): ModuleList(\n",
    "        (0): RNNDropout()\n",
    "        (1): RNNDropout()\n",
    "        (2): RNNDropout()\n",
    "      )\n",
    "    )\n",
    "  )\n",
    "  (1): PoolingLinearClassifier(\n",
    "    (layers): Sequential(\n",
    "      (0): BatchNorm1d(1200, eps=1e-05, momentum=0.1, affine=True, track_running_stats=True)\n",
    "      (1): Dropout(p=0.2, inplace=False)\n",
    "      (2): Linear(in_features=1200, out_features=50, bias=True)\n",
    "      (3): ReLU(inplace=True)\n",
    "      (4): BatchNorm1d(50, eps=1e-05, momentum=0.1, affine=True, track_running_stats=True)\n",
    "      (5): Dropout(p=0.1, inplace=False)\n",
    "      (6): Linear(in_features=50, out_features=2, bias=True)\n",
    "    )\n",
    "  )\n",
    ")\n",
    "```"
   ]
  },
  {
   "cell_type": "markdown",
   "metadata": {},
   "source": [
    "---"
   ]
  },
  {
   "cell_type": "markdown",
   "metadata": {},
   "source": [
    "> **Note: for this to work, your model needs to be on the CPU, as the RNN layers backwards propagation in CUDA is implemented only for training mode.**"
   ]
  },
  {
   "cell_type": "markdown",
   "metadata": {},
   "source": [
    "---"
   ]
  },
  {
   "cell_type": "markdown",
   "metadata": {},
   "source": [
    "The example pre-trained classifier is created by going thorugh fast.ai lesson 3, creating the learner, and saving it with the  `learn.export()` method. I kept it in the same directory as the notebook, filename `imdb_fastai_trained_lm_clf.pth`"
   ]
  },
  {
   "cell_type": "code",
   "execution_count": 1,
   "metadata": {},
   "outputs": [],
   "source": [
    "import torch\n",
    "import torch.nn as nn\n",
    "import fastai.train\n",
    "import pandas as pd\n",
    "from captum.attr import LayerIntegratedGradients"
   ]
  },
  {
   "cell_type": "markdown",
   "metadata": {},
   "source": [
    "Load a fast.ai `Learner` trained to predict IMDB review category `[negative, positive]`"
   ]
  },
  {
   "cell_type": "code",
   "execution_count": 2,
   "metadata": {},
   "outputs": [
    {
     "name": "stderr",
     "output_type": "stream",
     "text": [
      "/usr/local/anaconda3/lib/python3.7/site-packages/torch/serialization.py:657: SourceChangeWarning: source code of class 'torch.nn.modules.loss.CrossEntropyLoss' has changed. you can retrieve the original source code by accessing the object's source attribute or set `torch.nn.Module.dump_patches = True` and use the patch tool to revert the changes.\n",
      "  warnings.warn(msg, SourceChangeWarning)\n",
      "/usr/local/anaconda3/lib/python3.7/site-packages/torch/serialization.py:657: SourceChangeWarning: source code of class 'torch.nn.modules.container.ModuleList' has changed. you can retrieve the original source code by accessing the object's source attribute or set `torch.nn.Module.dump_patches = True` and use the patch tool to revert the changes.\n",
      "  warnings.warn(msg, SourceChangeWarning)\n",
      "/usr/local/anaconda3/lib/python3.7/site-packages/torch/serialization.py:657: SourceChangeWarning: source code of class 'torch.nn.modules.rnn.LSTM' has changed. you can retrieve the original source code by accessing the object's source attribute or set `torch.nn.Module.dump_patches = True` and use the patch tool to revert the changes.\n",
      "  warnings.warn(msg, SourceChangeWarning)\n",
      "/usr/local/anaconda3/lib/python3.7/site-packages/torch/serialization.py:657: SourceChangeWarning: source code of class 'torch.nn.modules.linear.Linear' has changed. you can retrieve the original source code by accessing the object's source attribute or set `torch.nn.Module.dump_patches = True` and use the patch tool to revert the changes.\n",
      "  warnings.warn(msg, SourceChangeWarning)\n",
      "/usr/local/anaconda3/lib/python3.7/site-packages/torch/serialization.py:657: SourceChangeWarning: source code of class 'torch.nn.modules.activation.ReLU' has changed. you can retrieve the original source code by accessing the object's source attribute or set `torch.nn.Module.dump_patches = True` and use the patch tool to revert the changes.\n",
      "  warnings.warn(msg, SourceChangeWarning)\n"
     ]
    },
    {
     "data": {
      "text/html": [],
      "text/plain": [
       "<IPython.core.display.HTML object>"
      ]
     },
     "metadata": {},
     "output_type": "display_data"
    },
    {
     "data": {
      "text/html": [],
      "text/plain": [
       "<IPython.core.display.HTML object>"
      ]
     },
     "metadata": {},
     "output_type": "display_data"
    }
   ],
   "source": [
    "awd = fastai.train.load_learner('.','imdb_fastai_trained_lm_clf.pth')"
   ]
  },
  {
   "cell_type": "markdown",
   "metadata": {},
   "source": [
    "#### canonical prediction using fastai api"
   ]
  },
  {
   "cell_type": "code",
   "execution_count": 3,
   "metadata": {},
   "outputs": [
    {
     "data": {
      "text/plain": [
       "(Category pos, tensor(1), tensor([0.0064, 0.9936]))"
      ]
     },
     "execution_count": 3,
     "metadata": {},
     "output_type": "execute_result"
    }
   ],
   "source": [
    "review = 'Incredible performance'\n",
    "awd.predict(review)"
   ]
  },
  {
   "cell_type": "markdown",
   "metadata": {},
   "source": [
    "#### examine input and output"
   ]
  },
  {
   "cell_type": "code",
   "execution_count": 4,
   "metadata": {},
   "outputs": [],
   "source": [
    "example_input_tokens = torch.tensor([[5,5,5,5,5]])"
   ]
  },
  {
   "cell_type": "code",
   "execution_count": 5,
   "metadata": {},
   "outputs": [
    {
     "data": {
      "text/plain": [
       "(tensor([[-1.0555,  1.3931]], grad_fn=<AddmmBackward>),\n",
       " [tensor([[[ 0.0155, -0.0068, -0.0033,  ...,  0.0090, -0.0150,  0.0164],\n",
       "           [ 0.0180, -0.0021, -0.0012,  ...,  0.0368, -0.0062,  0.0045],\n",
       "           [ 0.0257, -0.0014, -0.0009,  ...,  0.0661, -0.0028,  0.0020],\n",
       "           [ 0.0448, -0.0010, -0.0009,  ...,  0.0621, -0.0020,  0.0015],\n",
       "           [ 0.0650, -0.0012, -0.0011,  ...,  0.0484, -0.0019,  0.0017]]]),\n",
       "  tensor([[[-0.0262, -0.0011, -0.0065,  ...,  0.0008,  0.0572,  0.0049],\n",
       "           [-0.0131, -0.0004, -0.0066,  ...,  0.0002,  0.0578,  0.0122],\n",
       "           [-0.0115, -0.0003, -0.0059,  ...,  0.0002,  0.0426,  0.0136],\n",
       "           [-0.0182, -0.0005, -0.0060,  ...,  0.0002,  0.0452,  0.0140],\n",
       "           [-0.0237, -0.0009, -0.0056,  ...,  0.0002,  0.0533,  0.0141]]]),\n",
       "  tensor([[[ 0.2700,  0.0318, -0.1369,  ...,  0.1026, -0.1316,  0.0033],\n",
       "           [ 0.3259,  0.0075, -0.1707,  ...,  0.0963, -0.0292, -0.0096],\n",
       "           [ 0.2806,  0.0298, -0.1956,  ...,  0.0934, -0.0543,  0.0225],\n",
       "           [ 0.2852,  0.0923, -0.2689,  ...,  0.0865, -0.0844,  0.0929],\n",
       "           [ 0.3155,  0.1525, -0.3752,  ...,  0.0716, -0.1111,  0.1695]]])],\n",
       " [tensor([[[ 0.0155, -0.0068, -0.0033,  ...,  0.0090, -0.0150,  0.0164],\n",
       "           [ 0.0180, -0.0021, -0.0012,  ...,  0.0368, -0.0062,  0.0045],\n",
       "           [ 0.0257, -0.0014, -0.0009,  ...,  0.0661, -0.0028,  0.0020],\n",
       "           [ 0.0448, -0.0010, -0.0009,  ...,  0.0621, -0.0020,  0.0015],\n",
       "           [ 0.0650, -0.0012, -0.0011,  ...,  0.0484, -0.0019,  0.0017]]]),\n",
       "  tensor([[[-0.0262, -0.0011, -0.0065,  ...,  0.0008,  0.0572,  0.0049],\n",
       "           [-0.0131, -0.0004, -0.0066,  ...,  0.0002,  0.0578,  0.0122],\n",
       "           [-0.0115, -0.0003, -0.0059,  ...,  0.0002,  0.0426,  0.0136],\n",
       "           [-0.0182, -0.0005, -0.0060,  ...,  0.0002,  0.0452,  0.0140],\n",
       "           [-0.0237, -0.0009, -0.0056,  ...,  0.0002,  0.0533,  0.0141]]]),\n",
       "  tensor([[[ 0.2700,  0.0318, -0.1369,  ...,  0.1026, -0.1316,  0.0033],\n",
       "           [ 0.3259,  0.0075, -0.1707,  ...,  0.0963, -0.0292, -0.0096],\n",
       "           [ 0.2806,  0.0298, -0.1956,  ...,  0.0934, -0.0543,  0.0225],\n",
       "           [ 0.2852,  0.0923, -0.2689,  ...,  0.0865, -0.0844,  0.0929],\n",
       "           [ 0.3155,  0.1525, -0.3752,  ...,  0.0716, -0.1111,  0.1695]]])])"
      ]
     },
     "execution_count": 5,
     "metadata": {},
     "output_type": "execute_result"
    }
   ],
   "source": [
    "prediction = awd.model(example_input_tokens)\n",
    "prediction"
   ]
  },
  {
   "cell_type": "markdown",
   "metadata": {},
   "source": [
    "fastai API `.predict()` call packages up the output into a nice box ready to serve.  \n",
    "The underlying torch model returns a tuple with the final linear layer, and what appears to be outputs of the 3 RNN layers of the encoder.  \n",
    "As the RNN layers correspond in length to the input sequence (obviously), they can be used to derive gradient based explanations as well."
   ]
  },
  {
   "cell_type": "code",
   "execution_count": 6,
   "metadata": {},
   "outputs": [
    {
     "data": {
      "text/plain": [
       "tensor([[-1.0555,  1.3931]], grad_fn=<AddmmBackward>)"
      ]
     },
     "execution_count": 6,
     "metadata": {},
     "output_type": "execute_result"
    }
   ],
   "source": [
    "prediction = prediction[0]\n",
    "prediction"
   ]
  },
  {
   "cell_type": "markdown",
   "metadata": {},
   "source": [
    "The underlying model does not apply the final activation function, so let's apply it below:"
   ]
  },
  {
   "cell_type": "code",
   "execution_count": 7,
   "metadata": {},
   "outputs": [
    {
     "data": {
      "text/plain": [
       "tensor([[0.0795, 0.9205]], grad_fn=<SoftmaxBackward>)"
      ]
     },
     "execution_count": 7,
     "metadata": {},
     "output_type": "execute_result"
    }
   ],
   "source": [
    "torch.softmax(prediction, dim=-1)"
   ]
  },
  {
   "cell_type": "markdown",
   "metadata": {},
   "source": [
    "#### Preparing input"
   ]
  },
  {
   "cell_type": "markdown",
   "metadata": {},
   "source": [
    "this prepares a mini-batch of 1, both `x` and `y`  \n",
    "`y` is a dummy label value, not necessary"
   ]
  },
  {
   "cell_type": "code",
   "execution_count": 8,
   "metadata": {},
   "outputs": [
    {
     "data": {
      "text/plain": [
       "tensor([[   2,    5, 1127,  261]])"
      ]
     },
     "execution_count": 8,
     "metadata": {},
     "output_type": "execute_result"
    }
   ],
   "source": [
    "x, y = awd.data.one_item(review)\n",
    "x"
   ]
  },
  {
   "cell_type": "code",
   "execution_count": 9,
   "metadata": {},
   "outputs": [],
   "source": [
    "vocab = awd.data.x.vocab"
   ]
  },
  {
   "cell_type": "markdown",
   "metadata": {},
   "source": [
    "reversed tokens"
   ]
  },
  {
   "cell_type": "code",
   "execution_count": 10,
   "metadata": {},
   "outputs": [
    {
     "data": {
      "text/plain": [
       "['xxbos', 'xxmaj', 'incredible', 'performance']"
      ]
     },
     "execution_count": 10,
     "metadata": {},
     "output_type": "execute_result"
    }
   ],
   "source": [
    "[vocab.itos[token] for token in x[0]]"
   ]
  },
  {
   "cell_type": "markdown",
   "metadata": {},
   "source": [
    "### Preparing the model for integrated gradients\n",
    "\n",
    "we will need `1)` the embedding layer*, and `2)` the complete forward pass (all the way through to post-softmax predictions)\n",
    "\n",
    "_*note that we can use any of the RNN layer outputs instead of the initial embedding layer_"
   ]
  },
  {
   "cell_type": "markdown",
   "metadata": {},
   "source": [
    "the fast.ai AWD LSTM implementation does not work directly with captum, as the embeddings hook needs to grab the correct layer. This does not happen automatically and we need to dig into the model structure to find the layer.\n",
    "\n",
    "It appears as if there's duplication, but in reality those are nested modules, and the reason for that is the custom embeddings dropout implemented by the fast.ai team. There is also more engineering involved with varying learning rates for better training, which I have not examined."
   ]
  },
  {
   "cell_type": "markdown",
   "metadata": {},
   "source": [
    "```Python\n",
    ">>> awd.model\n",
    "SequentialRNN(\n",
    "  (0): MultiBatchEncoder(\n",
    "    (module): AWD_LSTM(\n",
    "      (encoder): Embedding(60000, 400, padding_idx=1)\n",
    "      (encoder_dp): EmbeddingDropout(               # <- this is the one!\n",
    "        (emb): Embedding(60000, 400, padding_idx=1)\n",
    "      )\n",
    "      (rnns): ModuleList(\n",
    "...\n",
    "```"
   ]
  },
  {
   "cell_type": "markdown",
   "metadata": {},
   "source": [
    "The model is built from an encoder and a classifier head.  \n",
    "`awd.model[0]` gives us the encoder  \n",
    "`._modules['module']` grabs the MultiBatchEncoder part  \n",
    "`._modules['encoder_dp']` grabs the EmbeddingDropout module"
   ]
  },
  {
   "cell_type": "code",
   "execution_count": 11,
   "metadata": {},
   "outputs": [
    {
     "data": {
      "text/plain": [
       "torch.Size([1, 5, 400])"
      ]
     },
     "execution_count": 11,
     "metadata": {},
     "output_type": "execute_result"
    }
   ],
   "source": [
    "embedding_layer = awd.model[0]._modules['module']._modules['encoder_dp']\n",
    "embedding_layer(example_input_tokens).shape"
   ]
  },
  {
   "cell_type": "markdown",
   "metadata": {},
   "source": [
    "shape checks out"
   ]
  },
  {
   "cell_type": "markdown",
   "metadata": {},
   "source": [
    "Forward pass needs to go all the way through to the final verdict, and not return any extra data such as the hidden state."
   ]
  },
  {
   "cell_type": "code",
   "execution_count": 12,
   "metadata": {},
   "outputs": [],
   "source": [
    "forward_func = lambda x: torch.softmax(awd.model(x)[0], dim=-1)"
   ]
  },
  {
   "cell_type": "code",
   "execution_count": 13,
   "metadata": {},
   "outputs": [],
   "source": [
    "lig = LayerIntegratedGradients(\n",
    "    forward_func, \n",
    "    embedding_layer\n",
    ")"
   ]
  },
  {
   "cell_type": "markdown",
   "metadata": {},
   "source": [
    "### Apply IG to an example sentence"
   ]
  },
  {
   "cell_type": "markdown",
   "metadata": {},
   "source": [
    "#### Input"
   ]
  },
  {
   "cell_type": "code",
   "execution_count": 14,
   "metadata": {},
   "outputs": [
    {
     "data": {
      "text/plain": [
       "tensor([[  2,   5, 140,  32, 145]])"
      ]
     },
     "execution_count": 14,
     "metadata": {},
     "output_type": "execute_result"
    }
   ],
   "source": [
    "sentence = 'Best film ever'\n",
    "sentence_tokens = awd.data.one_item(sentence)[0]\n",
    "sentence_tokens"
   ]
  },
  {
   "cell_type": "code",
   "execution_count": 15,
   "metadata": {},
   "outputs": [
    {
     "data": {
      "text/plain": [
       "['xxbos', 'xxmaj', 'best', 'film', 'ever']"
      ]
     },
     "execution_count": 15,
     "metadata": {},
     "output_type": "execute_result"
    }
   ],
   "source": [
    "reversed_tokens = [vocab.itos[t] for t in sentence_tokens[0]]\n",
    "reversed_tokens"
   ]
  },
  {
   "cell_type": "markdown",
   "metadata": {},
   "source": [
    "#### Baseline"
   ]
  },
  {
   "cell_type": "markdown",
   "metadata": {},
   "source": [
    "The key principle of IG is to understand the impact of the actual input as compared to a baseline.\n",
    "\n",
    "The choice of baseline matters very much, it is intended to be _\"blank input\"_. The authors give the example of a blank image, black pixels (RGB value 0,0,0).\n",
    "\n",
    "The method works by increasingly introducing input, from 0% to 100%, and calculating gradients along the way. At the end of the procedure, integration over the [0%, 100%] space is applied to get an attribution value that fulfils the axioms.\n",
    "(It's very well explained in [the paper](https://arxiv.org/pdf/1703.01365.pdf))\n",
    "\n",
    "For that reason, the choice of baseline is important. Using a wrong baseline can produce the results that make the algorithm look drunk, and give no value."
   ]
  },
  {
   "cell_type": "code",
   "execution_count": 16,
   "metadata": {},
   "outputs": [
    {
     "data": {
      "text/plain": [
       "['xxunk', 'xxpad', 'xxbos', 'xxeos', 'xxfld', 'xxmaj', 'xxup']"
      ]
     },
     "execution_count": 16,
     "metadata": {},
     "output_type": "execute_result"
    }
   ],
   "source": [
    "vocab.itos[:7]"
   ]
  },
  {
   "cell_type": "code",
   "execution_count": 17,
   "metadata": {},
   "outputs": [
    {
     "data": {
      "text/plain": [
       "tensor([[2, 0, 0, 0, 0]])"
      ]
     },
     "execution_count": 17,
     "metadata": {},
     "output_type": "execute_result"
    }
   ],
   "source": [
    "baseline = torch.zeros_like(sentence_tokens)\n",
    "baseline[0, 0] = 2\n",
    "baseline"
   ]
  },
  {
   "cell_type": "markdown",
   "metadata": {},
   "source": [
    "The first token in each input generated by the fast.ai text preprocessor is `xxbos`, as in \"beginning of sentence\". I want the baseline to start with `xxbos` as well. I'm using `xxunk` for the rest, just to try if it works. More on the choice of baseline later."
   ]
  },
  {
   "cell_type": "markdown",
   "metadata": {},
   "source": [
    "#### Get attributions"
   ]
  },
  {
   "cell_type": "code",
   "execution_count": 18,
   "metadata": {},
   "outputs": [
    {
     "data": {
      "text/plain": [
       "torch.Size([1, 5, 400])"
      ]
     },
     "execution_count": 18,
     "metadata": {},
     "output_type": "execute_result"
    }
   ],
   "source": [
    "attrs = lig.attribute(sentence_tokens, baseline, 1, n_steps=200)\n",
    "attrs.shape"
   ]
  },
  {
   "cell_type": "markdown",
   "metadata": {},
   "source": [
    "sum gradients over the embedding dimension (400) and end up with one value per token"
   ]
  },
  {
   "cell_type": "code",
   "execution_count": 19,
   "metadata": {},
   "outputs": [
    {
     "data": {
      "text/plain": [
       "tensor([[ 0.0000, -0.2337,  0.4169,  0.0464,  0.0865]], dtype=torch.float64)"
      ]
     },
     "execution_count": 19,
     "metadata": {},
     "output_type": "execute_result"
    }
   ],
   "source": [
    "attrs.sum(-1)"
   ]
  },
  {
   "cell_type": "markdown",
   "metadata": {},
   "source": [
    "total non-normalized attribution across tokens"
   ]
  },
  {
   "cell_type": "code",
   "execution_count": 20,
   "metadata": {},
   "outputs": [
    {
     "data": {
      "text/plain": [
       "tensor(0.3161, dtype=torch.float64)"
      ]
     },
     "execution_count": 20,
     "metadata": {},
     "output_type": "execute_result"
    }
   ],
   "source": [
    "attrs.sum()"
   ]
  },
  {
   "cell_type": "markdown",
   "metadata": {},
   "source": [
    "normalized attributions"
   ]
  },
  {
   "cell_type": "code",
   "execution_count": 21,
   "metadata": {},
   "outputs": [
    {
     "data": {
      "text/plain": [
       "tensor([[ 0.0000, -0.4790,  0.8545,  0.0950,  0.1773]], dtype=torch.float64)"
      ]
     },
     "execution_count": 21,
     "metadata": {},
     "output_type": "execute_result"
    }
   ],
   "source": [
    "a = attrs.sum(-1)\n",
    "a = a / torch.norm(a)\n",
    "a"
   ]
  },
  {
   "cell_type": "code",
   "execution_count": 22,
   "metadata": {},
   "outputs": [
    {
     "data": {
      "text/plain": [
       "tensor(0.6478, dtype=torch.float64)"
      ]
     },
     "execution_count": 22,
     "metadata": {},
     "output_type": "execute_result"
    }
   ],
   "source": [
    "a.sum()"
   ]
  },
  {
   "cell_type": "markdown",
   "metadata": {},
   "source": [
    "plot of attributions"
   ]
  },
  {
   "cell_type": "code",
   "execution_count": 23,
   "metadata": {},
   "outputs": [
    {
     "data": {
      "text/plain": [
       "<matplotlib.axes._subplots.AxesSubplot at 0x1a3db55c50>"
      ]
     },
     "execution_count": 23,
     "metadata": {},
     "output_type": "execute_result"
    },
    {
     "data": {
      "image/png": "[encoded data removed]",
      "text/plain": [
       "<Figure size 432x288 with 1 Axes>"
      ]
     },
     "metadata": {
      "needs_background": "light"
     },
     "output_type": "display_data"
    }
   ],
   "source": [
    "pd.Series(a.numpy()[0], index=reversed_tokens).plot.bar()"
   ]
  },
  {
   "cell_type": "code",
   "execution_count": 24,
   "metadata": {},
   "outputs": [
    {
     "data": {
      "text/plain": [
       "<matplotlib.axes._subplots.AxesSubplot at 0x1a3ddf9950>"
      ]
     },
     "execution_count": 24,
     "metadata": {},
     "output_type": "execute_result"
    },
    {
     "data": {
      "image/png": "[encoded data removed]",
      "text/plain": [
       "<Figure size 432x288 with 1 Axes>"
      ]
     },
     "metadata": {
      "needs_background": "light"
     },
     "output_type": "display_data"
    }
   ],
   "source": [
    "pd.Series(a.numpy()[0], index=reversed_tokens).iloc[::-1].plot.barh()"
   ]
  },
  {
   "cell_type": "markdown",
   "metadata": {},
   "source": [
    "> remember, those are token-wise attributions **relative to baseline!**"
   ]
  },
  {
   "cell_type": "markdown",
   "metadata": {},
   "source": [
    "### What makes a good baseline?"
   ]
  },
  {
   "cell_type": "markdown",
   "metadata": {},
   "source": [
    "One approach would be to create a zero-embedding vector. In this scenario, we would need to apply embeddings outside of the model and feed already-embedded tokens in.\n",
    "\n",
    "For a quick prototype, we'll look at some of the tokens as they are, and try to find one that gives indecisive, neutral predictions.\n",
    "\n",
    "Let's look for low influence on prediction among the initial tokens.  \n",
    "The vocabulary is constructed by order of value counts, but the first couple tokens are always the \"chassis\" semantics of the data format, to help the model make proper distinctions relevant to things that are obvious to model creators."
   ]
  },
  {
   "cell_type": "code",
   "execution_count": 25,
   "metadata": {},
   "outputs": [
    {
     "name": "stdout",
     "output_type": "stream",
     "text": [
      "i TOK     \t PRED            \t L-R \t\tX for < .1\n",
      "0 'xxunk' \t [0.6021 0.3979] \t -0.2042 \n",
      "1 'xxpad' \t [0.3843 0.6157] \t 0.2314 \n",
      "2 'xxbos' \t [0.1002 0.8998] \t 0.7996 \n",
      "3 'xxeos' \t [0.9085 0.0915] \t -0.8170 \n",
      "4 'xxfld' \t [0.9085 0.0915] \t -0.8170 \n",
      "5 'xxmaj' \t [0.0142 0.9858] \t 0.9716 \n",
      "6 'xxup'  \t [0.3182 0.6818] \t 0.3636 \n",
      "7 'xxrep' \t [0.088 0.912]   \t 0.8240 \n",
      "8 'xxwrep' \t [5.000e-04 9.995e-01] \t 0.9990 \n",
      "9 'the'   \t [0.2766 0.7234] \t 0.4468 \n",
      "10 '.'     \t [0.1513 0.8487] \t 0.6974 \n",
      "11 ','     \t [0.0095 0.9905] \t 0.9810 \n",
      "12 'and'   \t [0. 1.]         \t 1.0000 \n",
      "13 'a'     \t [0.2772 0.7228] \t 0.4456 \n",
      "14 'of'    \t [0.0743 0.9257] \t 0.8514 \n",
      "15 'to'    \t [0. 1.]         \t 1.0000 \n",
      "16 'is'    \t [0.06 0.94]     \t 0.8800 \n",
      "17 'it'    \t [4.000e-04 9.996e-01] \t 0.9992 \n",
      "18 'in'    \t [0.0465 0.9535] \t 0.9070 \n",
      "19 'i'     \t [0.0108 0.9892] \t 0.9784 \n",
      "20 'this'  \t [1.000e-04 9.999e-01] \t 0.9998 \n",
      "21 'that'  \t [2.000e-04 9.998e-01] \t 0.9996 \n",
      "22 '\"'     \t [0.02 0.98]     \t 0.9600 \n",
      "23 \"'s\"    \t [0.0019 0.9981] \t 0.9962 \n",
      "24 '-'     \t [0.0153 0.9847] \t 0.9694 \n",
      "25 '\\n \\n ' \t [0.4645 0.5355] \t 0.0710 \tx\n",
      "26 'was'   \t [0.9114 0.0886] \t -0.8228 \n",
      "27 'as'    \t [0.2405 0.7595] \t 0.5190 \n",
      "28 'with'  \t [0.0014 0.9986] \t 0.9972 \n",
      "29 'for'   \t [0. 1.]         \t 1.0000 \n",
      "30 'movie' \t [0.0029 0.9971] \t 0.9942 \n",
      "31 'but'   \t [0.3027 0.6973] \t 0.3946 \n",
      "32 'film'  \t [8.000e-04 9.992e-01] \t 0.9984 \n",
      "33 'you'   \t [1.000e-04 9.999e-01] \t 0.9998 \n",
      "34 ')'     \t [0.0325 0.9675] \t 0.9350 \n",
      "35 'on'    \t [0.0063 0.9937] \t 0.9874 \n",
      "36 \"n't\"   \t [0.9966 0.0034] \t -0.9932 \n",
      "37 '('     \t [0.02 0.98]     \t 0.9600 \n",
      "38 'not'   \t [0.9961 0.0039] \t -0.9922 \n",
      "39 'are'   \t [0.08 0.92]     \t 0.8400 \n"
     ]
    }
   ],
   "source": [
    "print('i', f'{\"TOK\":7s}', '\\t', f'{str(\"PRED\"):15s}', '\\t', f'{\"L-R\":.4s}', '\\t\\tX for < .1')\n",
    "for i, tok in enumerate(awd.data.x.vocab.itos[:40]):\n",
    "    pred = awd.model(torch.tensor([[2] + [i]*8]))[0]\n",
    "    pred = torch.softmax(pred, dim=-1)\n",
    "    pred = pred.detach().numpy().round(4)[0]\n",
    "    diff = pred[1]-pred[0]\n",
    "    print(i, f'{tok.__repr__():7s}', '\\t', f'{str(pred):15s}', '\\t', f'{diff:.4f}', '\\tx' if abs(diff)<.1 else '')"
   ]
  },
  {
   "cell_type": "markdown",
   "metadata": {},
   "source": [
    "**because every example starts with xxbos**  \n",
    "\n",
    "> `\\n \\n ` seems the only neutral option  \n",
    "in practice I've seen good results with `.` as well  \n",
    "not with `xxeos` or `xxfld`"
   ]
  },
  {
   "cell_type": "markdown",
   "metadata": {},
   "source": [
    "when generating the same table and **not starting with mandatory 'xxbos',**  \n",
    "\n",
    "> `.` and `xxeos` and `xxfld` and `\"` seem good candidates  \n",
    "because they produce close to 0 impact on prediction (with the approach taken above)"
   ]
  },
  {
   "cell_type": "markdown",
   "metadata": {},
   "source": [
    "**note after practice:**  \n",
    "> * turns out `xxbos` padding throughout makes a more neutral performance than `xxfld` `xxeos` in negative target, bit confusing in positive target\n",
    "> * `.` (dot) seems to provide neutrality in various cases I tried"
   ]
  },
  {
   "cell_type": "markdown",
   "metadata": {},
   "source": [
    "**token meanings from [forums](https://forums.fast.ai/t/xxbos-is-it-marking-beginning-of-sentence-or-beginning-of-text/43688/4):**\n",
    "\n",
    "\n",
    "        UNK (xxunk) is for an unknown word (one that isn’t present in the current vocabulary)\n",
    "        BOS (xxbos) represents the beginning of a text in your dataset\n",
    "        FLD (xxfld) is used if you set mark_fields=True in your TokenizeProcessor 1 to separate the different fields of texts (if your texts are loaded from several columns in a dataframe)\n",
    "        TK_MAJ (xxmaj) is used to indicate the next word begins with a capital in the original text\n",
    "        TK_UP (xxup) is used to indicate the next word is written in all caps in the original text\n",
    "        TK_REP (xxrep) is used to indicate the next character is repeated n times in the original text (usage xxrep n {char})\n",
    "        TK_WREP (xxwrep) is used to indicate the next word is repeated n times in the original text (usage xxwrep n {word})\n",
    "\n"
   ]
  },
  {
   "cell_type": "markdown",
   "metadata": {},
   "source": [
    "### Wrap code into a `get_attributions_for_sentence` function"
   ]
  },
  {
   "cell_type": "code",
   "execution_count": 62,
   "metadata": {},
   "outputs": [
    {
     "name": "stderr",
     "output_type": "stream",
     "text": [
      "/usr/local/anaconda3/lib/python3.7/site-packages/torch/serialization.py:657: SourceChangeWarning: source code of class 'torch.nn.modules.loss.CrossEntropyLoss' has changed. you can retrieve the original source code by accessing the object's source attribute or set `torch.nn.Module.dump_patches = True` and use the patch tool to revert the changes.\n",
      "  warnings.warn(msg, SourceChangeWarning)\n",
      "/usr/local/anaconda3/lib/python3.7/site-packages/torch/serialization.py:657: SourceChangeWarning: source code of class 'torch.nn.modules.container.ModuleList' has changed. you can retrieve the original source code by accessing the object's source attribute or set `torch.nn.Module.dump_patches = True` and use the patch tool to revert the changes.\n",
      "  warnings.warn(msg, SourceChangeWarning)\n",
      "/usr/local/anaconda3/lib/python3.7/site-packages/torch/serialization.py:657: SourceChangeWarning: source code of class 'torch.nn.modules.rnn.LSTM' has changed. you can retrieve the original source code by accessing the object's source attribute or set `torch.nn.Module.dump_patches = True` and use the patch tool to revert the changes.\n",
      "  warnings.warn(msg, SourceChangeWarning)\n",
      "/usr/local/anaconda3/lib/python3.7/site-packages/torch/serialization.py:657: SourceChangeWarning: source code of class 'torch.nn.modules.linear.Linear' has changed. you can retrieve the original source code by accessing the object's source attribute or set `torch.nn.Module.dump_patches = True` and use the patch tool to revert the changes.\n",
      "  warnings.warn(msg, SourceChangeWarning)\n",
      "/usr/local/anaconda3/lib/python3.7/site-packages/torch/serialization.py:657: SourceChangeWarning: source code of class 'torch.nn.modules.activation.ReLU' has changed. you can retrieve the original source code by accessing the object's source attribute or set `torch.nn.Module.dump_patches = True` and use the patch tool to revert the changes.\n",
      "  warnings.warn(msg, SourceChangeWarning)\n"
     ]
    },
    {
     "data": {
      "text/html": [],
      "text/plain": [
       "<IPython.core.display.HTML object>"
      ]
     },
     "metadata": {},
     "output_type": "display_data"
    },
    {
     "data": {
      "text/html": [],
      "text/plain": [
       "<IPython.core.display.HTML object>"
      ]
     },
     "metadata": {},
     "output_type": "display_data"
    }
   ],
   "source": [
    "awd = fastai.train.load_learner(path='.', file='imdb_fastai_trained_lm_clf.pth')"
   ]
  },
  {
   "cell_type": "code",
   "execution_count": 63,
   "metadata": {},
   "outputs": [],
   "source": [
    "awd.model[0].bptt = 1000"
   ]
  },
  {
   "cell_type": "code",
   "execution_count": 64,
   "metadata": {},
   "outputs": [
    {
     "data": {
      "text/plain": [
       "1000"
      ]
     },
     "execution_count": 64,
     "metadata": {},
     "output_type": "execute_result"
    }
   ],
   "source": [
    "awd.model[0].bptt"
   ]
  },
  {
   "cell_type": "code",
   "execution_count": 65,
   "metadata": {},
   "outputs": [],
   "source": [
    "# getting to the actual layer that holds embeddings\n",
    "embedding_layer = awd.model[0]._modules['module']._modules['encoder_dp']\n",
    "\n",
    "# working around the model prediction - first output only, apply softmax\n",
    "forward_func = lambda x: torch.softmax(awd.model(x)[0], dim=-1)"
   ]
  },
  {
   "cell_type": "code",
   "execution_count": 66,
   "metadata": {},
   "outputs": [],
   "source": [
    "# make integrated gradients instance\n",
    "lig = LayerIntegratedGradients(\n",
    "    forward_func, \n",
    "    embedding_layer\n",
    ")"
   ]
  },
  {
   "cell_type": "code",
   "execution_count": 67,
   "metadata": {},
   "outputs": [],
   "source": [
    "def get_attributions_for_sentence(sentence = 'Best film ever', \n",
    "                                  awd_model=awd, \n",
    "                                  lig_instance=lig,\n",
    "                                  target = None, \n",
    "                                  lig_n_steps = 100,\n",
    "                                  baseline_token='.'):\n",
    "    awd = awd_model\n",
    "    lig = lig_instance\n",
    "    vocab = awd.data.x.vocab\n",
    "    sentence_tokens = awd.data.one_item(sentence)[0]\n",
    "    reversed_tokens = [vocab.itos[w] for w in sentence_tokens[0]]\n",
    "    baseline = torch.ones_like(sentence_tokens) * vocab.stoi[baseline_token] # see \"how to choose a good baseline\"\n",
    "    baseline[0,0] = vocab.stoi['xxbos'] # beginning of sentence is always #1\n",
    "    y = awd.predict(sentence)\n",
    "    if target is None:\n",
    "        target = y[1].item()\n",
    "    attrs = lig.attribute(sentence_tokens, baseline, target, n_steps=lig_n_steps)\n",
    "    a = attrs.sum(-1)\n",
    "    a = a / torch.norm(a)\n",
    "    return (\n",
    "        pd.Series(a.numpy()[0], index=reversed_tokens),\n",
    "        y\n",
    "    )"
   ]
  },
  {
   "cell_type": "markdown",
   "metadata": {},
   "source": [
    "#### try it"
   ]
  },
  {
   "cell_type": "code",
   "execution_count": 68,
   "metadata": {},
   "outputs": [
    {
     "data": {
      "text/plain": [
       "(0.7473038122054388, (Category neg, tensor(0), tensor([0.6452, 0.3548])))"
      ]
     },
     "execution_count": 68,
     "metadata": {},
     "output_type": "execute_result"
    },
    {
     "data": {
      "image/png": "[encoded data removed]",
      "text/plain": [
       "<Figure size 432x288 with 1 Axes>"
      ]
     },
     "metadata": {
      "needs_background": "light"
     },
     "output_type": "display_data"
    }
   ],
   "source": [
    "a, y = get_attributions_for_sentence('I\\'ve never watched something as bad')\n",
    "a.plot.bar()\n",
    "a.sum(), y "
   ]
  },
  {
   "cell_type": "markdown",
   "metadata": {},
   "source": [
    "reversed target:"
   ]
  },
  {
   "cell_type": "code",
   "execution_count": 32,
   "metadata": {},
   "outputs": [
    {
     "data": {
      "text/plain": [
       "(-0.7473037792994757, (Category neg, tensor(0), tensor([0.6452, 0.3548])))"
      ]
     },
     "execution_count": 32,
     "metadata": {},
     "output_type": "execute_result"
    },
    {
     "data": {
      "image/png": "[encoded data removed]",
      "text/plain": [
       "<Figure size 432x288 with 1 Axes>"
      ]
     },
     "metadata": {
      "needs_background": "light"
     },
     "output_type": "display_data"
    }
   ],
   "source": [
    "a, y = get_attributions_for_sentence('I\\'ve never watched something as bad', target=1)\n",
    "a.plot.bar()\n",
    "a.sum(), y "
   ]
  },
  {
   "cell_type": "markdown",
   "metadata": {},
   "source": [
    "#### with a different baseline token"
   ]
  },
  {
   "cell_type": "code",
   "execution_count": 33,
   "metadata": {},
   "outputs": [
    {
     "data": {
      "text/plain": [
       "(0.5969958662970067, (Category neg, tensor(0), tensor([0.7552, 0.2448])))"
      ]
     },
     "execution_count": 33,
     "metadata": {},
     "output_type": "execute_result"
    },
    {
     "data": {
      "image/png": "[encoded data removed]",
      "text/plain": [
       "<Figure size 432x288 with 1 Axes>"
      ]
     },
     "metadata": {
      "needs_background": "light"
     },
     "output_type": "display_data"
    }
   ],
   "source": [
    "a, y = get_attributions_for_sentence(r'I have never watched something as bad', \n",
    "                                     baseline_token='\\n \\n ')\n",
    "a.plot.bar()\n",
    "a.sum(), y "
   ]
  },
  {
   "cell_type": "markdown",
   "metadata": {},
   "source": [
    "reversed target"
   ]
  },
  {
   "cell_type": "code",
   "execution_count": 34,
   "metadata": {},
   "outputs": [
    {
     "data": {
      "text/plain": [
       "(-0.596995870050405, (Category neg, tensor(0), tensor([0.7552, 0.2448])))"
      ]
     },
     "execution_count": 34,
     "metadata": {},
     "output_type": "execute_result"
    },
    {
     "data": {
      "image/png": "[encoded data removed]",
      "text/plain": [
       "<Figure size 432x288 with 1 Axes>"
      ]
     },
     "metadata": {
      "needs_background": "light"
     },
     "output_type": "display_data"
    }
   ],
   "source": [
    "a, y = get_attributions_for_sentence('I have never watched something as bad', \n",
    "                                     target=1, baseline_token='\\n \\n ')\n",
    "a.plot.bar()\n",
    "a.sum(), y "
   ]
  },
  {
   "cell_type": "markdown",
   "metadata": {},
   "source": [
    "#### another example"
   ]
  },
  {
   "cell_type": "code",
   "execution_count": 35,
   "metadata": {},
   "outputs": [
    {
     "data": {
      "text/plain": [
       "(1.3902248757295699, (Category pos, tensor(1), tensor([0.0019, 0.9981])))"
      ]
     },
     "execution_count": 35,
     "metadata": {},
     "output_type": "execute_result"
    },
    {
     "data": {
      "image/png": "[encoded data removed]",
      "text/plain": [
       "<Figure size 432x288 with 1 Axes>"
      ]
     },
     "metadata": {
      "needs_background": "light"
     },
     "output_type": "display_data"
    }
   ],
   "source": [
    "a, y = get_attributions_for_sentence('Such a great show!')\n",
    "a.plot.bar()\n",
    "a.sum(), y "
   ]
  },
  {
   "cell_type": "markdown",
   "metadata": {},
   "source": [
    "reversed target"
   ]
  },
  {
   "cell_type": "code",
   "execution_count": 36,
   "metadata": {},
   "outputs": [
    {
     "data": {
      "text/plain": [
       "(-1.3902248571469171, (Category pos, tensor(1), tensor([0.0019, 0.9981])))"
      ]
     },
     "execution_count": 36,
     "metadata": {},
     "output_type": "execute_result"
    },
    {
     "data": {
      "image/png": "[encoded data removed]",
      "text/plain": [
       "<Figure size 432x288 with 1 Axes>"
      ]
     },
     "metadata": {
      "needs_background": "light"
     },
     "output_type": "display_data"
    }
   ],
   "source": [
    "a, y = get_attributions_for_sentence('Such a great show!', target=0)\n",
    "a.plot.bar()\n",
    "a.sum(), y "
   ]
  },
  {
   "cell_type": "code",
   "execution_count": 37,
   "metadata": {},
   "outputs": [
    {
     "data": {
      "text/plain": [
       "(1.8880242934243174, (Category pos, tensor(1), tensor([0.0019, 0.9981])))"
      ]
     },
     "execution_count": 37,
     "metadata": {},
     "output_type": "execute_result"
    },
    {
     "data": {
      "image/png": "[encoded data removed]",
      "text/plain": [
       "<Figure size 432x288 with 1 Axes>"
      ]
     },
     "metadata": {
      "needs_background": "light"
     },
     "output_type": "display_data"
    }
   ],
   "source": [
    "a, y = get_attributions_for_sentence('Such a great show!', target=1, baseline_token='\\n \\n ')\n",
    "a.plot.bar()\n",
    "a.sum(), y "
   ]
  },
  {
   "cell_type": "markdown",
   "metadata": {},
   "source": [
    "> prediction live in call"
   ]
  },
  {
   "cell_type": "markdown",
   "metadata": {},
   "source": [
    "#### Sarcastic 1 star review of the film \"Cats\".  "
   ]
  },
  {
   "cell_type": "code",
   "execution_count": 38,
   "metadata": {},
   "outputs": [
    {
     "data": {
      "text/plain": [
       "(-0.6082090966551856, (Category pos, tensor(1), tensor([0.2470, 0.7530])))"
      ]
     },
     "execution_count": 38,
     "metadata": {},
     "output_type": "execute_result"
    },
    {
     "data": {
      "image/png": "[encoded data removed]",
      "text/plain": [
       "<Figure size 432x288 with 1 Axes>"
      ]
     },
     "metadata": {
      "needs_background": "light"
     },
     "output_type": "display_data"
    }
   ],
   "source": [
    "review = r\"Hollywood's new way of combating online piracy. Make movies no one wants to watch.\"\n",
    "\n",
    "a, y = get_attributions_for_sentence(review, target=0, baseline_token='\\n \\n ')\n",
    "\n",
    "a.plot.bar()\n",
    "a.sum(), y "
   ]
  },
  {
   "cell_type": "markdown",
   "metadata": {},
   "source": [
    "The model doesn't get it.  \n",
    "The negative attributions tell us that\n",
    "`Hollywood` `'s` `new` `combating` `movies` `one` are what differentiates this sentence from baseline.\n",
    "\n",
    "The word `no` seems to be the only indicator tilting the prediction in the correct direction.  \n",
    "That makes sense - this is the punch line - \"no one wants to watch\""
   ]
  },
  {
   "cell_type": "markdown",
   "metadata": {},
   "source": [
    "#### 10 star review of the film Parasite"
   ]
  },
  {
   "cell_type": "code",
   "execution_count": 39,
   "metadata": {},
   "outputs": [
    {
     "name": "stdout",
     "output_type": "stream",
     "text": [
      "Review:\n",
      "I am remarkably stingy with my 10/10 ratings. I'll be the first person to acknowledge this. Of the roughly 2600 titles I've rated on here, only 34 have a 10. Parasite is one of them. If this isn't a masterpiece, then I don't know what is.\n",
      "\n",
      "Prediction: (Category pos, tensor(1), tensor([0.2338, 0.7662]))\n",
      "Sum of attributions: 1.152911045947124\n"
     ]
    },
    {
     "data": {
      "image/png": "[encoded data removed]",
      "text/plain": [
       "<Figure size 720x1440 with 1 Axes>"
      ]
     },
     "metadata": {
      "needs_background": "light"
     },
     "output_type": "display_data"
    }
   ],
   "source": [
    "review = r\"I am remarkably stingy with my 10/10 ratings. I'll be the first person to acknowledge this. Of the roughly 2600 titles I've rated on here, only 34 have a 10. Parasite is one of them. If this isn't a masterpiece, then I don't know what is.\"\n",
    "a, y = get_attributions_for_sentence(review, target=1, baseline_token='\\n \\n ')\n",
    "print(f'Review:\\n{review}\\n')\n",
    "print('Prediction:', y)\n",
    "print('Sum of attributions:', a.sum())\n",
    "a.iloc[::-1].plot.barh(figsize=(10,20));"
   ]
  },
  {
   "cell_type": "markdown",
   "metadata": {},
   "source": [
    "This time the model gets it.\n",
    "\n",
    "Interesting observations:\n",
    "\n",
    "* subjective `I` appears as a positive influence multiple times. It could well mean that the use of `I` signals people have personal feelings and opinions, and relating the subject of review to themselves means they view it positively (hat tip to Josh for this interpretation)\n",
    "* capitalization by itself seems to be a positive factor - `xxmaj` or the next token after it get a positive attribution score"
   ]
  },
  {
   "cell_type": "code",
   "execution_count": 40,
   "metadata": {},
   "outputs": [
    {
     "data": {
      "text/plain": [
       "i              0.404297\n",
       "remarkably     0.362786\n",
       "parasite       0.266965\n",
       "2600           0.240347\n",
       "my             0.235565\n",
       "masterpiece    0.211457\n",
       "i              0.181278\n",
       "dtype: float64"
      ]
     },
     "execution_count": 40,
     "metadata": {},
     "output_type": "execute_result"
    }
   ],
   "source": [
    "a.sort_values(ascending=False).head(7)"
   ]
  },
  {
   "cell_type": "code",
   "execution_count": 41,
   "metadata": {},
   "outputs": [
    {
     "data": {
      "text/plain": [
       "stingy   -0.434922\n",
       "only     -0.193789\n",
       "if       -0.159791\n",
       "n't      -0.132368\n",
       "rated    -0.116018\n",
       "dtype: float64"
      ]
     },
     "execution_count": 41,
     "metadata": {},
     "output_type": "execute_result"
    }
   ],
   "source": [
    "a.sort_values(ascending=True).head()"
   ]
  },
  {
   "cell_type": "markdown",
   "metadata": {},
   "source": [
    "### fin"
   ]
  },
  {
   "cell_type": "code",
   "execution_count": 42,
   "metadata": {},
   "outputs": [],
   "source": [
    "review = r\"\"\" \n",
    "Bernie Sanders, the progressive whose two campaigns for president pulled the Democratic Party to the left, ended his White House bid Wednesday, leaving former Vice President Joe Biden as the party’s presumptive nominee for the 2020 election.\n",
    "“The path toward victory is virtually impossible,” Mr. Sanders said in a livestreamed address. “If I believed that we had a feasible path to the nomination, I would certainly continue the campaign. But it’s just not there.”\n",
    "\"\"\""
   ]
  },
  {
   "cell_type": "code",
   "execution_count": 75,
   "metadata": {},
   "outputs": [],
   "source": [
    "review = r\"\"\" \n",
    "Has there ever been a bad performance in a Guy Ritchie movie? If there has I haven't noticed it. He has an ornate ability to take average actors and make them great, and to take already great actors and get even more out of them. There are a few directors around who specialise in this but Ritchie is right near the top. The cast in 'The Gentlemen' is admittedly fantastic, but it doesn't change the fact that they are an absolute treat to watch. Matthew McConaughey is in his element in a role that he was born to play, Charlie Hunnam plays one of the coolest characters I've seen perfectly, Colin Farrell is hilarious and ridiculously cool as well and then Hugh Grant gives one of the best performances I've ever seen from him. In fact Grant was so good I didn't even recognise his voice and had to wonder if they'd dubbed it. They hadn't, he'd just nailed it.\n",
    "\n",
    "The style this movie possesses is just so much fun to watch. If you've seen any of Ritchie's previous similar films ('Lock, Stock and Two Smoking Barrels', 'Snatch', 'RocknRolla') then you know what I'm talking about. The pacing moves at lightning speed, the dialogue is quick, clever and deeper than you first realise and the conflict is always multi-layered. This one is actually told in quite a unique way with a couple of characters going over events that have already happened and it works masterfully. It breaks the story up and gives room for creativity in the story-telling process and also humour.\n",
    "\n",
    "Every time I see that Ritchie has made a movie that isn't a crime-thriller I get a little disappointed. It's not that the other stuff he's doing is bad ('Swept Away' being an obvious exception), it's just that he is so damn good as this style of movie. He's the best in the business and if he only did these for the rest of his career I'd be a very happy man. This is an excellent movie well worth your time and money.\n",
    "\"\"\""
   ]
  },
  {
   "cell_type": "code",
   "execution_count": 54,
   "metadata": {},
   "outputs": [
    {
     "data": {
      "text/plain": [
       "70"
      ]
     },
     "execution_count": 54,
     "metadata": {},
     "output_type": "execute_result"
    }
   ],
   "source": [
    "awd.model[0].bptt"
   ]
  },
  {
   "cell_type": "code",
   "execution_count": 76,
   "metadata": {},
   "outputs": [],
   "source": [
    "review_tokens = awd.data.one_item(review)[0]"
   ]
  },
  {
   "cell_type": "code",
   "execution_count": 77,
   "metadata": {},
   "outputs": [
    {
     "data": {
      "text/plain": [
       "torch.Size([1, 454])"
      ]
     },
     "execution_count": 77,
     "metadata": {},
     "output_type": "execute_result"
    }
   ],
   "source": [
    "review_tokens.shape"
   ]
  },
  {
   "cell_type": "code",
   "execution_count": null,
   "metadata": {},
   "outputs": [],
   "source": [
    "a, y = get_attributions_for_sentence(review, target=1, baseline_token='\\n \\n ')\n",
    "print(f'Review:\\n{review}\\n')\n",
    "print('Prediction:', y)\n",
    "print('Sum of attributions:', a.sum())\n",
    "a.iloc[::-1].plot.barh(figsize=(10,30));"
   ]
  },
  {
   "cell_type": "code",
   "execution_count": 80,
   "metadata": {},
   "outputs": [
    {
     "data": {
      "text/plain": [
       "xxunk        0.211851\n",
       "colin        0.203495\n",
       "swept        0.185936\n",
       ".            0.174086\n",
       "snatch       0.164407\n",
       "worth        0.138396\n",
       "and          0.137426\n",
       "excellent    0.115905\n",
       "xxmaj        0.108830\n",
       "well         0.108700\n",
       "dtype: float64"
      ]
     },
     "execution_count": 80,
     "metadata": {},
     "output_type": "execute_result"
    }
   ],
   "source": [
    "a.nlargest(10)"
   ]
  },
  {
   "cell_type": "code",
   "execution_count": 81,
   "metadata": {},
   "outputs": [
    {
     "data": {
      "text/plain": [
       "lock           -0.379606\n",
       "bad            -0.199201\n",
       "ever           -0.185545\n",
       "hugh           -0.184291\n",
       "ridiculously   -0.171692\n",
       "ritchie        -0.147848\n",
       "xxunk          -0.137478\n",
       "few            -0.118859\n",
       "bad            -0.113984\n",
       "there          -0.110625\n",
       "dtype: float64"
      ]
     },
     "execution_count": 81,
     "metadata": {},
     "output_type": "execute_result"
    }
   ],
   "source": [
    "a.nsmallest(10)"
   ]
  },
  {
   "cell_type": "code",
   "execution_count": null,
   "metadata": {},
   "outputs": [],
   "source": []
  },
  {
   "cell_type": "code",
   "execution_count": null,
   "metadata": {},
   "outputs": [],
   "source": []
  },
  {
   "cell_type": "code",
   "execution_count": 98,
   "metadata": {},
   "outputs": [],
   "source": [
    "class MyClass:\n",
    "    a = 10\n",
    "    \n",
    "    def __repr__(self):\n",
    "        return self.__class__.__name__ + str(self.a)\n",
    "    \n",
    "    def _repr_html_(self):\n",
    "        return \"<h2>\" + self.__class__.__name__ + str(self.a) + \"</h2>\""
   ]
  },
  {
   "cell_type": "code",
   "execution_count": 96,
   "metadata": {},
   "outputs": [],
   "source": [
    "x = MyClass()"
   ]
  },
  {
   "cell_type": "code",
   "execution_count": 97,
   "metadata": {},
   "outputs": [
    {
     "data": {
      "text/html": [
       "<h2>MyClass10</h2><img src=\"https://avatars1.githubusercontent.com/u/35901082?s=40&v=4\"></img>"
      ],
      "text/plain": [
       "MyClass10"
      ]
     },
     "execution_count": 97,
     "metadata": {},
     "output_type": "execute_result"
    }
   ],
   "source": [
    "x"
   ]
  },
  {
   "cell_type": "code",
   "execution_count": null,
   "metadata": {},
   "outputs": [],
   "source": []
  }
 ],
 "metadata": {
  "bento_stylesheets": {
   "bento/extensions/flow/main.css": true,
   "bento/extensions/kernel_selector/main.css": true,
   "bento/extensions/kernel_ui/main.css": true,
   "bento/extensions/new_kernel/main.css": true,
   "bento/extensions/system_usage/main.css": true,
   "bento/extensions/theme/main.css": true
  },
  "kernelspec": {
   "display_name": "Python 3",
   "language": "python",
   "name": "python3"
  },
  "language_info": {
   "codemirror_mode": {
    "name": "ipython",
    "version": 3
   },
   "file_extension": ".py",
   "mimetype": "text/x-python",
   "name": "python",
   "nbconvert_exporter": "python",
   "pygments_lexer": "ipython3",
   "version": "3.8.2"
  }
 },
 "nbformat": 4,
 "nbformat_minor": 4
}
