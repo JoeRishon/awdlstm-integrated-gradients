{
 "cells": [
  {
   "cell_type": "code",
   "execution_count": 1,
   "metadata": {},
   "outputs": [],
   "source": [
    "import ipyvuetify as v\n",
    "import ipywidgets as w\n",
    "import traitlets as tr"
   ]
  },
  {
   "cell_type": "code",
   "execution_count": 2,
   "metadata": {},
   "outputs": [
    {
     "data": {
      "text/html": [],
      "text/plain": [
       "<IPython.core.display.HTML object>"
      ]
     },
     "metadata": {},
     "output_type": "display_data"
    },
    {
     "data": {
      "text/html": [],
      "text/plain": [
       "<IPython.core.display.HTML object>"
      ]
     },
     "metadata": {},
     "output_type": "display_data"
    }
   ],
   "source": [
    "import fastai.train\n",
    "import pandas as pd\n",
    "import torch\n",
    "import torch.nn as nn\n",
    "from captum.attr import LayerIntegratedGradients\n",
    "\n",
    "# --- Model Setup ---\n",
    "\n",
    "# Load a fast.ai `Learner` trained to predict IMDB review category `[negative, positive]`\n",
    "awd = fastai.train.load_learner(\".\", \"imdb_fastai_trained_lm_clf.pth\")\n",
    "awd.model[0].bptt = 200\n",
    "\n",
    "# getting to the actual layer that holds embeddings\n",
    "embedding_layer = awd.model[0]._modules[\"module\"]._modules[\"encoder_dp\"]\n",
    "\n",
    "# working around the model prediction - first output only, apply softmax\n",
    "forward_func = lambda x: torch.softmax(awd.model(x)[0], dim=-1)\n",
    "\n",
    "# make integrated gradients instance\n",
    "lig = LayerIntegratedGradients(forward_func, embedding_layer)\n",
    "\n",
    "# Explainer logic\n",
    "\n",
    "\n",
    "def get_attributions_for_sentence(\n",
    "    sentence,\n",
    "    awd_model=awd,\n",
    "    lig_instance=lig,\n",
    "    target=None,\n",
    "    lig_n_steps=200,\n",
    "    baseline_token=\"\\n \\n \",\n",
    "):\n",
    "    awd = awd_model\n",
    "    lig = lig_instance\n",
    "    vocab = awd.data.x.vocab\n",
    "    sentence_tokens = awd.data.one_item(sentence)[0]\n",
    "    reversed_tokens = [vocab.itos[w] for w in sentence_tokens[0]]\n",
    "    baseline = (\n",
    "        torch.ones_like(sentence_tokens) * vocab.stoi[baseline_token]\n",
    "    )  # see \"how to choose a good baseline\"\n",
    "    baseline[0, 0] = vocab.stoi[\"xxbos\"]  # beginning of sentence is always #1\n",
    "    y = awd.predict(sentence)\n",
    "    if target is None:\n",
    "        target = y[1].item()\n",
    "    attrs = lig.attribute(sentence_tokens, baseline, target, n_steps=lig_n_steps)\n",
    "    a = attrs.sum(-1)\n",
    "    a = a / torch.norm(a)\n",
    "    return (pd.Series(a.numpy()[0], index=reversed_tokens), y)"
   ]
  },
  {
   "cell_type": "code",
   "execution_count": 7,
   "metadata": {},
   "outputs": [],
   "source": [
    "# https://www.imdb.com/review/rw5384922/?ref_=tt_urv\n",
    "review_1917 = \"\"\"I sat in a packed yet silent theater this morning and watched, what I believe to be, the next Academy Award winner for the Best Picture.\"\"\"\n",
    "\"\"\"I'm not at all a fan of war movies but I am a fan of great movies... and 1917 is a great movie. I have never been so mesmerized by set design and direction, the mass human emotion of this film is astonishingly captured and embedded magically in the audience. It keeps running through my mind...the poetry and beauty intertwined with the raw misery of war. Treat yourself... see this movie!\n",
    "\"\"\";"
   ]
  },
  {
   "cell_type": "code",
   "execution_count": 8,
   "metadata": {},
   "outputs": [],
   "source": [
    "class Chip(v.Chip):\n",
    "    positive = \"0, 255, 0\"\n",
    "    negative = \"255, 0, 0\"\n",
    "\n",
    "    def __init__(self, word, attribution):\n",
    "        direction = self.positive if attribution >= 0 else self.negative\n",
    "        color = f\"rgba({direction}, {abs(attribution):.2f})\"\n",
    "        super().__init__(\n",
    "            class_=\"mx-0 px-1\",\n",
    "            children=[word],\n",
    "            color=color,\n",
    "            value=attribution,\n",
    "            label=True,\n",
    "            small=True,\n",
    "        )\n",
    "\n",
    "\n",
    "def saliency_chips(attributions: pd.Series) -> v.ChipGroup:\n",
    "    children = [Chip(w, a) for w, a in attributions.iteritems()]\n",
    "    return v.ChipGroup(column=True, children=children)"
   ]
  },
  {
   "cell_type": "code",
   "execution_count": 9,
   "metadata": {},
   "outputs": [],
   "source": [
    "def display_attributions(sentence=\"Great film\", target=None, baseline_token=\"\\n \\n \"):\n",
    "    \n",
    "    attributions, prediction = get_attributions_for_sentence(sentence)\n",
    "    \n",
    "    return saliency_chips(attributions)"
   ]
  },
  {
   "cell_type": "markdown",
   "metadata": {},
   "source": [
    "# App"
   ]
  },
  {
   "cell_type": "markdown",
   "metadata": {},
   "source": [
    "### Model"
   ]
  },
  {
   "cell_type": "code",
   "execution_count": 10,
   "metadata": {},
   "outputs": [],
   "source": [
    "class AppModel(tr.HasTraits):\n",
    "    sentence = tr.Unicode('Great film!')\n",
    "    target = tr.Unicode('Use predicted category')\n",
    "    baseline_token = tr.Unicode('Newline')\n",
    "    \n",
    "target_options = {\n",
    "    'Use predicted category':None, \n",
    "    'Negative':0, \n",
    "    'Positive':1\n",
    "}\n",
    "\n",
    "baseline_tok_options = {\n",
    "    'Newline': ' \\n \\n',\n",
    "    'Dot': '.',\n",
    "    'Beginning-of-sentence': '<BOS>'\n",
    "}\n",
    "\n",
    "model = AppModel()"
   ]
  },
  {
   "cell_type": "markdown",
   "metadata": {},
   "source": [
    "### View"
   ]
  },
  {
   "cell_type": "code",
   "execution_count": 11,
   "metadata": {},
   "outputs": [],
   "source": [
    "sent_input = v.Textarea(label='Enter a movie review', v_model='')\n",
    "\n",
    "target_input = v.Select(label='Prediction to explain',\n",
    "                        items=list(target_options.keys()))\n",
    "\n",
    "baseline_input = v.Select(label='Neutral token',\n",
    "                          items=list(baseline_tok_options.keys()))\n",
    "\n",
    "run_btn = v.Btn(children=['Explain'], class_='success', block=True)"
   ]
  },
  {
   "cell_type": "code",
   "execution_count": 12,
   "metadata": {},
   "outputs": [],
   "source": [
    "input_section = v.Card(class_='ma-4 pa-4', style_=\"max-width: 500px\",\n",
    "       children=[v.CardTitle(children=['Explain review classification']),\n",
    "           sent_input, target_input, baseline_input, run_btn]\n",
    "      )"
   ]
  },
  {
   "cell_type": "code",
   "execution_count": 13,
   "metadata": {},
   "outputs": [],
   "source": [
    "output = v.Container()\n",
    "output_section = v.Card(\n",
    "    class_='ma-4 pa-4', style_=\"max-width: 500px\",\n",
    "    children=[\n",
    "        v.CardTitle(children=['Explanation']),\n",
    "        output\n",
    "])"
   ]
  },
  {
   "cell_type": "markdown",
   "metadata": {},
   "source": [
    "### Presentation"
   ]
  },
  {
   "cell_type": "code",
   "execution_count": 14,
   "metadata": {},
   "outputs": [],
   "source": [
    "# link state\n",
    "tr.link(\n",
    "    (model, 'sentence'), (sent_input, 'v_model')\n",
    ")\n",
    "tr.link(\n",
    "    (model, 'target'), (target_input, 'v_model')\n",
    ")\n",
    "tr.link(\n",
    "    (model, 'baseline_token'), (baseline_input, 'v_model')\n",
    ")\n",
    "\n",
    "# arrange events\n",
    "def run_pressed(*args):\n",
    "    output.children = [display_attributions(\n",
    "        model.sentence,\n",
    "        target_options[model.target],\n",
    "        baseline_tok_options[model.baseline_token]\n",
    "    )]\n",
    "\n",
    "run_btn.on_event('click', run_pressed)"
   ]
  },
  {
   "cell_type": "markdown",
   "metadata": {},
   "source": [
    "### Display"
   ]
  },
  {
   "cell_type": "code",
   "execution_count": 15,
   "metadata": {},
   "outputs": [],
   "source": [
    "app = v.Container(_metadata={'mount_id': 'content-main'}, children=[\n",
    "      input_section, output_section\n",
    "])"
   ]
  },
  {
   "cell_type": "code",
   "execution_count": 16,
   "metadata": {},
   "outputs": [
    {
     "data": {
      "application/vnd.jupyter.widget-view+json": {
       "model_id": "cbf7c5cec21d4c26bac40da522c73dd8",
       "version_major": 2,
       "version_minor": 0
      },
      "text/plain": [
       "Container(children=[Card(children=[CardTitle(children=['Explain review classification']), Textarea(label='Ente…"
      ]
     },
     "metadata": {},
     "output_type": "display_data"
    }
   ],
   "source": [
    "app"
   ]
  },
  {
   "cell_type": "code",
   "execution_count": null,
   "metadata": {},
   "outputs": [],
   "source": []
  }
 ],
 "metadata": {
  "kernelspec": {
   "display_name": "Python 3",
   "language": "python",
   "name": "python3"
  },
  "language_info": {
   "codemirror_mode": {
    "name": "ipython",
    "version": 3
   },
   "file_extension": ".py",
   "mimetype": "text/x-python",
   "name": "python",
   "nbconvert_exporter": "python",
   "pygments_lexer": "ipython3",
   "version": "3.8.2"
  }
 },
 "nbformat": 4,
 "nbformat_minor": 4
}
